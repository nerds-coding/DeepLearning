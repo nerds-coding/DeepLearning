{
 "cells": [
  {
   "cell_type": "code",
   "execution_count": 1,
   "metadata": {},
   "outputs": [],
   "source": [
    "import pandas as pd\n",
    "import numpy as np\n",
    "import matplotlib.pyplot as plt\n",
    "import seaborn as sns\n",
    "\n",
    "%matplotlib inline"
   ]
  },
  {
   "cell_type": "code",
   "execution_count": 2,
   "metadata": {},
   "outputs": [],
   "source": [
    "data = pd.read_csv('/Users/anupprakash/Documents/Keras Tutorial/TF_2_Notebooks_and_Data/01-Pandas-Crash-Course/bank.csv')"
   ]
  },
  {
   "cell_type": "code",
   "execution_count": 3,
   "metadata": {},
   "outputs": [
    {
     "data": {
      "text/html": [
       "<div>\n",
       "<style scoped>\n",
       "    .dataframe tbody tr th:only-of-type {\n",
       "        vertical-align: middle;\n",
       "    }\n",
       "\n",
       "    .dataframe tbody tr th {\n",
       "        vertical-align: top;\n",
       "    }\n",
       "\n",
       "    .dataframe thead th {\n",
       "        text-align: right;\n",
       "    }\n",
       "</style>\n",
       "<table border=\"1\" class=\"dataframe\">\n",
       "  <thead>\n",
       "    <tr style=\"text-align: right;\">\n",
       "      <th></th>\n",
       "      <th>age</th>\n",
       "      <th>job</th>\n",
       "      <th>marital</th>\n",
       "      <th>education</th>\n",
       "      <th>default</th>\n",
       "      <th>balance</th>\n",
       "      <th>housing</th>\n",
       "      <th>loan</th>\n",
       "      <th>contact</th>\n",
       "      <th>day</th>\n",
       "      <th>month</th>\n",
       "      <th>duration</th>\n",
       "      <th>campaign</th>\n",
       "      <th>pdays</th>\n",
       "      <th>previous</th>\n",
       "      <th>poutcome</th>\n",
       "      <th>y</th>\n",
       "    </tr>\n",
       "  </thead>\n",
       "  <tbody>\n",
       "    <tr>\n",
       "      <th>0</th>\n",
       "      <td>30</td>\n",
       "      <td>unemployed</td>\n",
       "      <td>married</td>\n",
       "      <td>primary</td>\n",
       "      <td>no</td>\n",
       "      <td>1787</td>\n",
       "      <td>no</td>\n",
       "      <td>no</td>\n",
       "      <td>cellular</td>\n",
       "      <td>19</td>\n",
       "      <td>oct</td>\n",
       "      <td>79</td>\n",
       "      <td>1</td>\n",
       "      <td>-1</td>\n",
       "      <td>0</td>\n",
       "      <td>unknown</td>\n",
       "      <td>no</td>\n",
       "    </tr>\n",
       "    <tr>\n",
       "      <th>1</th>\n",
       "      <td>33</td>\n",
       "      <td>services</td>\n",
       "      <td>married</td>\n",
       "      <td>secondary</td>\n",
       "      <td>no</td>\n",
       "      <td>4789</td>\n",
       "      <td>yes</td>\n",
       "      <td>yes</td>\n",
       "      <td>cellular</td>\n",
       "      <td>11</td>\n",
       "      <td>may</td>\n",
       "      <td>220</td>\n",
       "      <td>1</td>\n",
       "      <td>339</td>\n",
       "      <td>4</td>\n",
       "      <td>failure</td>\n",
       "      <td>no</td>\n",
       "    </tr>\n",
       "    <tr>\n",
       "      <th>2</th>\n",
       "      <td>35</td>\n",
       "      <td>management</td>\n",
       "      <td>single</td>\n",
       "      <td>tertiary</td>\n",
       "      <td>no</td>\n",
       "      <td>1350</td>\n",
       "      <td>yes</td>\n",
       "      <td>no</td>\n",
       "      <td>cellular</td>\n",
       "      <td>16</td>\n",
       "      <td>apr</td>\n",
       "      <td>185</td>\n",
       "      <td>1</td>\n",
       "      <td>330</td>\n",
       "      <td>1</td>\n",
       "      <td>failure</td>\n",
       "      <td>no</td>\n",
       "    </tr>\n",
       "    <tr>\n",
       "      <th>3</th>\n",
       "      <td>30</td>\n",
       "      <td>management</td>\n",
       "      <td>married</td>\n",
       "      <td>tertiary</td>\n",
       "      <td>no</td>\n",
       "      <td>1476</td>\n",
       "      <td>yes</td>\n",
       "      <td>yes</td>\n",
       "      <td>unknown</td>\n",
       "      <td>3</td>\n",
       "      <td>jun</td>\n",
       "      <td>199</td>\n",
       "      <td>4</td>\n",
       "      <td>-1</td>\n",
       "      <td>0</td>\n",
       "      <td>unknown</td>\n",
       "      <td>no</td>\n",
       "    </tr>\n",
       "    <tr>\n",
       "      <th>4</th>\n",
       "      <td>59</td>\n",
       "      <td>blue-collar</td>\n",
       "      <td>married</td>\n",
       "      <td>secondary</td>\n",
       "      <td>no</td>\n",
       "      <td>0</td>\n",
       "      <td>yes</td>\n",
       "      <td>no</td>\n",
       "      <td>unknown</td>\n",
       "      <td>5</td>\n",
       "      <td>may</td>\n",
       "      <td>226</td>\n",
       "      <td>1</td>\n",
       "      <td>-1</td>\n",
       "      <td>0</td>\n",
       "      <td>unknown</td>\n",
       "      <td>no</td>\n",
       "    </tr>\n",
       "  </tbody>\n",
       "</table>\n",
       "</div>"
      ],
      "text/plain": [
       "   age          job  marital  education default  balance housing loan  \\\n",
       "0   30   unemployed  married    primary      no     1787      no   no   \n",
       "1   33     services  married  secondary      no     4789     yes  yes   \n",
       "2   35   management   single   tertiary      no     1350     yes   no   \n",
       "3   30   management  married   tertiary      no     1476     yes  yes   \n",
       "4   59  blue-collar  married  secondary      no        0     yes   no   \n",
       "\n",
       "    contact  day month  duration  campaign  pdays  previous poutcome   y  \n",
       "0  cellular   19   oct        79         1     -1         0  unknown  no  \n",
       "1  cellular   11   may       220         1    339         4  failure  no  \n",
       "2  cellular   16   apr       185         1    330         1  failure  no  \n",
       "3   unknown    3   jun       199         4     -1         0  unknown  no  \n",
       "4   unknown    5   may       226         1     -1         0  unknown  no  "
      ]
     },
     "execution_count": 3,
     "metadata": {},
     "output_type": "execute_result"
    }
   ],
   "source": [
    "data.head()"
   ]
  },
  {
   "cell_type": "code",
   "execution_count": 4,
   "metadata": {},
   "outputs": [
    {
     "data": {
      "text/html": [
       "<div>\n",
       "<style scoped>\n",
       "    .dataframe tbody tr th:only-of-type {\n",
       "        vertical-align: middle;\n",
       "    }\n",
       "\n",
       "    .dataframe tbody tr th {\n",
       "        vertical-align: top;\n",
       "    }\n",
       "\n",
       "    .dataframe thead th {\n",
       "        text-align: right;\n",
       "    }\n",
       "</style>\n",
       "<table border=\"1\" class=\"dataframe\">\n",
       "  <thead>\n",
       "    <tr style=\"text-align: right;\">\n",
       "      <th></th>\n",
       "      <th>age</th>\n",
       "      <th>job</th>\n",
       "      <th>marital</th>\n",
       "      <th>education</th>\n",
       "      <th>default</th>\n",
       "      <th>balance</th>\n",
       "      <th>housing</th>\n",
       "      <th>loan</th>\n",
       "      <th>contact</th>\n",
       "      <th>day</th>\n",
       "      <th>month</th>\n",
       "      <th>duration</th>\n",
       "      <th>campaign</th>\n",
       "      <th>pdays</th>\n",
       "      <th>previous</th>\n",
       "      <th>poutcome</th>\n",
       "      <th>y</th>\n",
       "    </tr>\n",
       "  </thead>\n",
       "  <tbody>\n",
       "    <tr>\n",
       "      <th>4516</th>\n",
       "      <td>33</td>\n",
       "      <td>services</td>\n",
       "      <td>married</td>\n",
       "      <td>secondary</td>\n",
       "      <td>no</td>\n",
       "      <td>-333</td>\n",
       "      <td>yes</td>\n",
       "      <td>no</td>\n",
       "      <td>cellular</td>\n",
       "      <td>30</td>\n",
       "      <td>jul</td>\n",
       "      <td>329</td>\n",
       "      <td>5</td>\n",
       "      <td>-1</td>\n",
       "      <td>0</td>\n",
       "      <td>unknown</td>\n",
       "      <td>no</td>\n",
       "    </tr>\n",
       "    <tr>\n",
       "      <th>4517</th>\n",
       "      <td>57</td>\n",
       "      <td>self-employed</td>\n",
       "      <td>married</td>\n",
       "      <td>tertiary</td>\n",
       "      <td>yes</td>\n",
       "      <td>-3313</td>\n",
       "      <td>yes</td>\n",
       "      <td>yes</td>\n",
       "      <td>unknown</td>\n",
       "      <td>9</td>\n",
       "      <td>may</td>\n",
       "      <td>153</td>\n",
       "      <td>1</td>\n",
       "      <td>-1</td>\n",
       "      <td>0</td>\n",
       "      <td>unknown</td>\n",
       "      <td>no</td>\n",
       "    </tr>\n",
       "    <tr>\n",
       "      <th>4518</th>\n",
       "      <td>57</td>\n",
       "      <td>technician</td>\n",
       "      <td>married</td>\n",
       "      <td>secondary</td>\n",
       "      <td>no</td>\n",
       "      <td>295</td>\n",
       "      <td>no</td>\n",
       "      <td>no</td>\n",
       "      <td>cellular</td>\n",
       "      <td>19</td>\n",
       "      <td>aug</td>\n",
       "      <td>151</td>\n",
       "      <td>11</td>\n",
       "      <td>-1</td>\n",
       "      <td>0</td>\n",
       "      <td>unknown</td>\n",
       "      <td>no</td>\n",
       "    </tr>\n",
       "    <tr>\n",
       "      <th>4519</th>\n",
       "      <td>28</td>\n",
       "      <td>blue-collar</td>\n",
       "      <td>married</td>\n",
       "      <td>secondary</td>\n",
       "      <td>no</td>\n",
       "      <td>1137</td>\n",
       "      <td>no</td>\n",
       "      <td>no</td>\n",
       "      <td>cellular</td>\n",
       "      <td>6</td>\n",
       "      <td>feb</td>\n",
       "      <td>129</td>\n",
       "      <td>4</td>\n",
       "      <td>211</td>\n",
       "      <td>3</td>\n",
       "      <td>other</td>\n",
       "      <td>no</td>\n",
       "    </tr>\n",
       "    <tr>\n",
       "      <th>4520</th>\n",
       "      <td>44</td>\n",
       "      <td>entrepreneur</td>\n",
       "      <td>single</td>\n",
       "      <td>tertiary</td>\n",
       "      <td>no</td>\n",
       "      <td>1136</td>\n",
       "      <td>yes</td>\n",
       "      <td>yes</td>\n",
       "      <td>cellular</td>\n",
       "      <td>3</td>\n",
       "      <td>apr</td>\n",
       "      <td>345</td>\n",
       "      <td>2</td>\n",
       "      <td>249</td>\n",
       "      <td>7</td>\n",
       "      <td>other</td>\n",
       "      <td>no</td>\n",
       "    </tr>\n",
       "  </tbody>\n",
       "</table>\n",
       "</div>"
      ],
      "text/plain": [
       "      age            job  marital  education default  balance housing loan  \\\n",
       "4516   33       services  married  secondary      no     -333     yes   no   \n",
       "4517   57  self-employed  married   tertiary     yes    -3313     yes  yes   \n",
       "4518   57     technician  married  secondary      no      295      no   no   \n",
       "4519   28    blue-collar  married  secondary      no     1137      no   no   \n",
       "4520   44   entrepreneur   single   tertiary      no     1136     yes  yes   \n",
       "\n",
       "       contact  day month  duration  campaign  pdays  previous poutcome   y  \n",
       "4516  cellular   30   jul       329         5     -1         0  unknown  no  \n",
       "4517   unknown    9   may       153         1     -1         0  unknown  no  \n",
       "4518  cellular   19   aug       151        11     -1         0  unknown  no  \n",
       "4519  cellular    6   feb       129         4    211         3    other  no  \n",
       "4520  cellular    3   apr       345         2    249         7    other  no  "
      ]
     },
     "execution_count": 4,
     "metadata": {},
     "output_type": "execute_result"
    }
   ],
   "source": [
    "data.tail()"
   ]
  },
  {
   "cell_type": "code",
   "execution_count": 5,
   "metadata": {},
   "outputs": [
    {
     "name": "stdout",
     "output_type": "stream",
     "text": [
      "<class 'pandas.core.frame.DataFrame'>\n",
      "RangeIndex: 4521 entries, 0 to 4520\n",
      "Data columns (total 17 columns):\n",
      " #   Column     Non-Null Count  Dtype \n",
      "---  ------     --------------  ----- \n",
      " 0   age        4521 non-null   int64 \n",
      " 1   job        4521 non-null   object\n",
      " 2   marital    4521 non-null   object\n",
      " 3   education  4521 non-null   object\n",
      " 4   default    4521 non-null   object\n",
      " 5   balance    4521 non-null   int64 \n",
      " 6   housing    4521 non-null   object\n",
      " 7   loan       4521 non-null   object\n",
      " 8   contact    4521 non-null   object\n",
      " 9   day        4521 non-null   int64 \n",
      " 10  month      4521 non-null   object\n",
      " 11  duration   4521 non-null   int64 \n",
      " 12  campaign   4521 non-null   int64 \n",
      " 13  pdays      4521 non-null   int64 \n",
      " 14  previous   4521 non-null   int64 \n",
      " 15  poutcome   4521 non-null   object\n",
      " 16  y          4521 non-null   object\n",
      "dtypes: int64(7), object(10)\n",
      "memory usage: 600.6+ KB\n"
     ]
    }
   ],
   "source": [
    "data.info()"
   ]
  },
  {
   "cell_type": "code",
   "execution_count": 7,
   "metadata": {},
   "outputs": [
    {
     "data": {
      "text/plain": [
       "(4521, 17)"
      ]
     },
     "execution_count": 7,
     "metadata": {},
     "output_type": "execute_result"
    }
   ],
   "source": [
    "data.shape"
   ]
  },
  {
   "cell_type": "code",
   "execution_count": 8,
   "metadata": {},
   "outputs": [
    {
     "data": {
      "text/plain": [
       "count    4521.000000\n",
       "mean       41.170095\n",
       "std        10.576211\n",
       "min        19.000000\n",
       "25%        33.000000\n",
       "50%        39.000000\n",
       "75%        49.000000\n",
       "max        87.000000\n",
       "Name: age, dtype: float64"
      ]
     },
     "execution_count": 8,
     "metadata": {},
     "output_type": "execute_result"
    }
   ],
   "source": [
    "data.age.describe()"
   ]
  },
  {
   "cell_type": "code",
   "execution_count": 11,
   "metadata": {},
   "outputs": [
    {
     "data": {
      "text/plain": [
       "age            67\n",
       "job            12\n",
       "marital         3\n",
       "education       4\n",
       "default         2\n",
       "balance      2353\n",
       "housing         2\n",
       "loan            2\n",
       "contact         3\n",
       "day            31\n",
       "month          12\n",
       "duration      875\n",
       "campaign       32\n",
       "pdays         292\n",
       "previous       24\n",
       "poutcome        4\n",
       "y               2\n",
       "dtype: int64"
      ]
     },
     "execution_count": 11,
     "metadata": {},
     "output_type": "execute_result"
    }
   ],
   "source": [
    "data.nunique()"
   ]
  },
  {
   "cell_type": "code",
   "execution_count": 12,
   "metadata": {},
   "outputs": [
    {
     "data": {
      "text/plain": [
       "cellular     2896\n",
       "unknown      1324\n",
       "telephone     301\n",
       "Name: contact, dtype: int64"
      ]
     },
     "execution_count": 12,
     "metadata": {},
     "output_type": "execute_result"
    }
   ],
   "source": [
    "data.contact.value_counts()"
   ]
  },
  {
   "cell_type": "code",
   "execution_count": 13,
   "metadata": {},
   "outputs": [
    {
     "data": {
      "text/plain": [
       "unknown    3705\n",
       "failure     490\n",
       "other       197\n",
       "success     129\n",
       "Name: poutcome, dtype: int64"
      ]
     },
     "execution_count": 13,
     "metadata": {},
     "output_type": "execute_result"
    }
   ],
   "source": [
    "data.poutcome.value_counts()"
   ]
  },
  {
   "cell_type": "code",
   "execution_count": 14,
   "metadata": {},
   "outputs": [],
   "source": [
    "from sklearn.preprocessing import LabelEncoder,StandardScaler"
   ]
  },
  {
   "cell_type": "code",
   "execution_count": 15,
   "metadata": {},
   "outputs": [],
   "source": [
    "data['y'] = LabelEncoder().fit_transform(data['y'])"
   ]
  },
  {
   "cell_type": "code",
   "execution_count": 16,
   "metadata": {},
   "outputs": [],
   "source": [
    "data['poutcome'] = LabelEncoder().fit_transform(data['poutcome'])"
   ]
  },
  {
   "cell_type": "code",
   "execution_count": 17,
   "metadata": {},
   "outputs": [],
   "source": [
    "data['contact'] = LabelEncoder().fit_transform(data['contact'])"
   ]
  },
  {
   "cell_type": "code",
   "execution_count": 18,
   "metadata": {},
   "outputs": [],
   "source": [
    "data['month'] = LabelEncoder().fit_transform(data['month'])"
   ]
  },
  {
   "cell_type": "code",
   "execution_count": 19,
   "metadata": {},
   "outputs": [],
   "source": [
    "data['loan'] = LabelEncoder().fit_transform(data['loan'])"
   ]
  },
  {
   "cell_type": "code",
   "execution_count": 20,
   "metadata": {},
   "outputs": [],
   "source": [
    "data['housing'] = LabelEncoder().fit_transform(data['housing'])"
   ]
  },
  {
   "cell_type": "code",
   "execution_count": 21,
   "metadata": {},
   "outputs": [],
   "source": [
    "data['default'] = LabelEncoder().fit_transform(data['default'])"
   ]
  },
  {
   "cell_type": "code",
   "execution_count": 22,
   "metadata": {},
   "outputs": [],
   "source": [
    "data['education'] = LabelEncoder().fit_transform(data['education'])"
   ]
  },
  {
   "cell_type": "code",
   "execution_count": 23,
   "metadata": {},
   "outputs": [],
   "source": [
    "data['marital'] = LabelEncoder().fit_transform(data['marital'])"
   ]
  },
  {
   "cell_type": "code",
   "execution_count": 24,
   "metadata": {},
   "outputs": [],
   "source": [
    "data['job'] = LabelEncoder().fit_transform(data['job'])"
   ]
  },
  {
   "cell_type": "code",
   "execution_count": 25,
   "metadata": {},
   "outputs": [
    {
     "data": {
      "text/html": [
       "<div>\n",
       "<style scoped>\n",
       "    .dataframe tbody tr th:only-of-type {\n",
       "        vertical-align: middle;\n",
       "    }\n",
       "\n",
       "    .dataframe tbody tr th {\n",
       "        vertical-align: top;\n",
       "    }\n",
       "\n",
       "    .dataframe thead th {\n",
       "        text-align: right;\n",
       "    }\n",
       "</style>\n",
       "<table border=\"1\" class=\"dataframe\">\n",
       "  <thead>\n",
       "    <tr style=\"text-align: right;\">\n",
       "      <th></th>\n",
       "      <th>age</th>\n",
       "      <th>job</th>\n",
       "      <th>marital</th>\n",
       "      <th>education</th>\n",
       "      <th>default</th>\n",
       "      <th>balance</th>\n",
       "      <th>housing</th>\n",
       "      <th>loan</th>\n",
       "      <th>contact</th>\n",
       "      <th>day</th>\n",
       "      <th>month</th>\n",
       "      <th>duration</th>\n",
       "      <th>campaign</th>\n",
       "      <th>pdays</th>\n",
       "      <th>previous</th>\n",
       "      <th>poutcome</th>\n",
       "      <th>y</th>\n",
       "    </tr>\n",
       "  </thead>\n",
       "  <tbody>\n",
       "    <tr>\n",
       "      <th>0</th>\n",
       "      <td>30</td>\n",
       "      <td>10</td>\n",
       "      <td>1</td>\n",
       "      <td>0</td>\n",
       "      <td>0</td>\n",
       "      <td>1787</td>\n",
       "      <td>0</td>\n",
       "      <td>0</td>\n",
       "      <td>0</td>\n",
       "      <td>19</td>\n",
       "      <td>10</td>\n",
       "      <td>79</td>\n",
       "      <td>1</td>\n",
       "      <td>-1</td>\n",
       "      <td>0</td>\n",
       "      <td>3</td>\n",
       "      <td>0</td>\n",
       "    </tr>\n",
       "    <tr>\n",
       "      <th>1</th>\n",
       "      <td>33</td>\n",
       "      <td>7</td>\n",
       "      <td>1</td>\n",
       "      <td>1</td>\n",
       "      <td>0</td>\n",
       "      <td>4789</td>\n",
       "      <td>1</td>\n",
       "      <td>1</td>\n",
       "      <td>0</td>\n",
       "      <td>11</td>\n",
       "      <td>8</td>\n",
       "      <td>220</td>\n",
       "      <td>1</td>\n",
       "      <td>339</td>\n",
       "      <td>4</td>\n",
       "      <td>0</td>\n",
       "      <td>0</td>\n",
       "    </tr>\n",
       "    <tr>\n",
       "      <th>2</th>\n",
       "      <td>35</td>\n",
       "      <td>4</td>\n",
       "      <td>2</td>\n",
       "      <td>2</td>\n",
       "      <td>0</td>\n",
       "      <td>1350</td>\n",
       "      <td>1</td>\n",
       "      <td>0</td>\n",
       "      <td>0</td>\n",
       "      <td>16</td>\n",
       "      <td>0</td>\n",
       "      <td>185</td>\n",
       "      <td>1</td>\n",
       "      <td>330</td>\n",
       "      <td>1</td>\n",
       "      <td>0</td>\n",
       "      <td>0</td>\n",
       "    </tr>\n",
       "    <tr>\n",
       "      <th>3</th>\n",
       "      <td>30</td>\n",
       "      <td>4</td>\n",
       "      <td>1</td>\n",
       "      <td>2</td>\n",
       "      <td>0</td>\n",
       "      <td>1476</td>\n",
       "      <td>1</td>\n",
       "      <td>1</td>\n",
       "      <td>2</td>\n",
       "      <td>3</td>\n",
       "      <td>6</td>\n",
       "      <td>199</td>\n",
       "      <td>4</td>\n",
       "      <td>-1</td>\n",
       "      <td>0</td>\n",
       "      <td>3</td>\n",
       "      <td>0</td>\n",
       "    </tr>\n",
       "    <tr>\n",
       "      <th>4</th>\n",
       "      <td>59</td>\n",
       "      <td>1</td>\n",
       "      <td>1</td>\n",
       "      <td>1</td>\n",
       "      <td>0</td>\n",
       "      <td>0</td>\n",
       "      <td>1</td>\n",
       "      <td>0</td>\n",
       "      <td>2</td>\n",
       "      <td>5</td>\n",
       "      <td>8</td>\n",
       "      <td>226</td>\n",
       "      <td>1</td>\n",
       "      <td>-1</td>\n",
       "      <td>0</td>\n",
       "      <td>3</td>\n",
       "      <td>0</td>\n",
       "    </tr>\n",
       "  </tbody>\n",
       "</table>\n",
       "</div>"
      ],
      "text/plain": [
       "   age  job  marital  education  default  balance  housing  loan  contact  \\\n",
       "0   30   10        1          0        0     1787        0     0        0   \n",
       "1   33    7        1          1        0     4789        1     1        0   \n",
       "2   35    4        2          2        0     1350        1     0        0   \n",
       "3   30    4        1          2        0     1476        1     1        2   \n",
       "4   59    1        1          1        0        0        1     0        2   \n",
       "\n",
       "   day  month  duration  campaign  pdays  previous  poutcome  y  \n",
       "0   19     10        79         1     -1         0         3  0  \n",
       "1   11      8       220         1    339         4         0  0  \n",
       "2   16      0       185         1    330         1         0  0  \n",
       "3    3      6       199         4     -1         0         3  0  \n",
       "4    5      8       226         1     -1         0         3  0  "
      ]
     },
     "execution_count": 25,
     "metadata": {},
     "output_type": "execute_result"
    }
   ],
   "source": [
    "data.head()"
   ]
  },
  {
   "cell_type": "code",
   "execution_count": 26,
   "metadata": {},
   "outputs": [
    {
     "name": "stdout",
     "output_type": "stream",
     "text": [
      "<class 'pandas.core.frame.DataFrame'>\n",
      "RangeIndex: 4521 entries, 0 to 4520\n",
      "Data columns (total 17 columns):\n",
      " #   Column     Non-Null Count  Dtype\n",
      "---  ------     --------------  -----\n",
      " 0   age        4521 non-null   int64\n",
      " 1   job        4521 non-null   int64\n",
      " 2   marital    4521 non-null   int64\n",
      " 3   education  4521 non-null   int64\n",
      " 4   default    4521 non-null   int64\n",
      " 5   balance    4521 non-null   int64\n",
      " 6   housing    4521 non-null   int64\n",
      " 7   loan       4521 non-null   int64\n",
      " 8   contact    4521 non-null   int64\n",
      " 9   day        4521 non-null   int64\n",
      " 10  month      4521 non-null   int64\n",
      " 11  duration   4521 non-null   int64\n",
      " 12  campaign   4521 non-null   int64\n",
      " 13  pdays      4521 non-null   int64\n",
      " 14  previous   4521 non-null   int64\n",
      " 15  poutcome   4521 non-null   int64\n",
      " 16  y          4521 non-null   int64\n",
      "dtypes: int64(17)\n",
      "memory usage: 600.6 KB\n"
     ]
    }
   ],
   "source": [
    "data.info()"
   ]
  },
  {
   "cell_type": "code",
   "execution_count": 28,
   "metadata": {},
   "outputs": [
    {
     "data": {
      "text/html": [
       "<div>\n",
       "<style scoped>\n",
       "    .dataframe tbody tr th:only-of-type {\n",
       "        vertical-align: middle;\n",
       "    }\n",
       "\n",
       "    .dataframe tbody tr th {\n",
       "        vertical-align: top;\n",
       "    }\n",
       "\n",
       "    .dataframe thead th {\n",
       "        text-align: right;\n",
       "    }\n",
       "</style>\n",
       "<table border=\"1\" class=\"dataframe\">\n",
       "  <thead>\n",
       "    <tr style=\"text-align: right;\">\n",
       "      <th></th>\n",
       "      <th>count</th>\n",
       "      <th>mean</th>\n",
       "      <th>std</th>\n",
       "      <th>min</th>\n",
       "      <th>25%</th>\n",
       "      <th>50%</th>\n",
       "      <th>75%</th>\n",
       "      <th>max</th>\n",
       "    </tr>\n",
       "  </thead>\n",
       "  <tbody>\n",
       "    <tr>\n",
       "      <th>age</th>\n",
       "      <td>4521.0</td>\n",
       "      <td>41.170095</td>\n",
       "      <td>10.576211</td>\n",
       "      <td>19.0</td>\n",
       "      <td>33.0</td>\n",
       "      <td>39.0</td>\n",
       "      <td>49.0</td>\n",
       "      <td>87.0</td>\n",
       "    </tr>\n",
       "    <tr>\n",
       "      <th>job</th>\n",
       "      <td>4521.0</td>\n",
       "      <td>4.411192</td>\n",
       "      <td>3.255716</td>\n",
       "      <td>0.0</td>\n",
       "      <td>1.0</td>\n",
       "      <td>4.0</td>\n",
       "      <td>7.0</td>\n",
       "      <td>11.0</td>\n",
       "    </tr>\n",
       "    <tr>\n",
       "      <th>marital</th>\n",
       "      <td>4521.0</td>\n",
       "      <td>1.147755</td>\n",
       "      <td>0.599650</td>\n",
       "      <td>0.0</td>\n",
       "      <td>1.0</td>\n",
       "      <td>1.0</td>\n",
       "      <td>2.0</td>\n",
       "      <td>2.0</td>\n",
       "    </tr>\n",
       "    <tr>\n",
       "      <th>education</th>\n",
       "      <td>4521.0</td>\n",
       "      <td>1.231365</td>\n",
       "      <td>0.748744</td>\n",
       "      <td>0.0</td>\n",
       "      <td>1.0</td>\n",
       "      <td>1.0</td>\n",
       "      <td>2.0</td>\n",
       "      <td>3.0</td>\n",
       "    </tr>\n",
       "    <tr>\n",
       "      <th>default</th>\n",
       "      <td>4521.0</td>\n",
       "      <td>0.016810</td>\n",
       "      <td>0.128575</td>\n",
       "      <td>0.0</td>\n",
       "      <td>0.0</td>\n",
       "      <td>0.0</td>\n",
       "      <td>0.0</td>\n",
       "      <td>1.0</td>\n",
       "    </tr>\n",
       "    <tr>\n",
       "      <th>balance</th>\n",
       "      <td>4521.0</td>\n",
       "      <td>1422.657819</td>\n",
       "      <td>3009.638142</td>\n",
       "      <td>-3313.0</td>\n",
       "      <td>69.0</td>\n",
       "      <td>444.0</td>\n",
       "      <td>1480.0</td>\n",
       "      <td>71188.0</td>\n",
       "    </tr>\n",
       "    <tr>\n",
       "      <th>housing</th>\n",
       "      <td>4521.0</td>\n",
       "      <td>0.566025</td>\n",
       "      <td>0.495676</td>\n",
       "      <td>0.0</td>\n",
       "      <td>0.0</td>\n",
       "      <td>1.0</td>\n",
       "      <td>1.0</td>\n",
       "      <td>1.0</td>\n",
       "    </tr>\n",
       "    <tr>\n",
       "      <th>loan</th>\n",
       "      <td>4521.0</td>\n",
       "      <td>0.152842</td>\n",
       "      <td>0.359875</td>\n",
       "      <td>0.0</td>\n",
       "      <td>0.0</td>\n",
       "      <td>0.0</td>\n",
       "      <td>0.0</td>\n",
       "      <td>1.0</td>\n",
       "    </tr>\n",
       "    <tr>\n",
       "      <th>contact</th>\n",
       "      <td>4521.0</td>\n",
       "      <td>0.652289</td>\n",
       "      <td>0.901498</td>\n",
       "      <td>0.0</td>\n",
       "      <td>0.0</td>\n",
       "      <td>0.0</td>\n",
       "      <td>2.0</td>\n",
       "      <td>2.0</td>\n",
       "    </tr>\n",
       "    <tr>\n",
       "      <th>day</th>\n",
       "      <td>4521.0</td>\n",
       "      <td>15.915284</td>\n",
       "      <td>8.247667</td>\n",
       "      <td>1.0</td>\n",
       "      <td>9.0</td>\n",
       "      <td>16.0</td>\n",
       "      <td>21.0</td>\n",
       "      <td>31.0</td>\n",
       "    </tr>\n",
       "    <tr>\n",
       "      <th>month</th>\n",
       "      <td>4521.0</td>\n",
       "      <td>5.540146</td>\n",
       "      <td>3.002763</td>\n",
       "      <td>0.0</td>\n",
       "      <td>3.0</td>\n",
       "      <td>6.0</td>\n",
       "      <td>8.0</td>\n",
       "      <td>11.0</td>\n",
       "    </tr>\n",
       "    <tr>\n",
       "      <th>duration</th>\n",
       "      <td>4521.0</td>\n",
       "      <td>263.961292</td>\n",
       "      <td>259.856633</td>\n",
       "      <td>4.0</td>\n",
       "      <td>104.0</td>\n",
       "      <td>185.0</td>\n",
       "      <td>329.0</td>\n",
       "      <td>3025.0</td>\n",
       "    </tr>\n",
       "    <tr>\n",
       "      <th>campaign</th>\n",
       "      <td>4521.0</td>\n",
       "      <td>2.793630</td>\n",
       "      <td>3.109807</td>\n",
       "      <td>1.0</td>\n",
       "      <td>1.0</td>\n",
       "      <td>2.0</td>\n",
       "      <td>3.0</td>\n",
       "      <td>50.0</td>\n",
       "    </tr>\n",
       "    <tr>\n",
       "      <th>pdays</th>\n",
       "      <td>4521.0</td>\n",
       "      <td>39.766645</td>\n",
       "      <td>100.121124</td>\n",
       "      <td>-1.0</td>\n",
       "      <td>-1.0</td>\n",
       "      <td>-1.0</td>\n",
       "      <td>-1.0</td>\n",
       "      <td>871.0</td>\n",
       "    </tr>\n",
       "    <tr>\n",
       "      <th>previous</th>\n",
       "      <td>4521.0</td>\n",
       "      <td>0.542579</td>\n",
       "      <td>1.693562</td>\n",
       "      <td>0.0</td>\n",
       "      <td>0.0</td>\n",
       "      <td>0.0</td>\n",
       "      <td>0.0</td>\n",
       "      <td>25.0</td>\n",
       "    </tr>\n",
       "    <tr>\n",
       "      <th>poutcome</th>\n",
       "      <td>4521.0</td>\n",
       "      <td>2.559168</td>\n",
       "      <td>0.992051</td>\n",
       "      <td>0.0</td>\n",
       "      <td>3.0</td>\n",
       "      <td>3.0</td>\n",
       "      <td>3.0</td>\n",
       "      <td>3.0</td>\n",
       "    </tr>\n",
       "    <tr>\n",
       "      <th>y</th>\n",
       "      <td>4521.0</td>\n",
       "      <td>0.115240</td>\n",
       "      <td>0.319347</td>\n",
       "      <td>0.0</td>\n",
       "      <td>0.0</td>\n",
       "      <td>0.0</td>\n",
       "      <td>0.0</td>\n",
       "      <td>1.0</td>\n",
       "    </tr>\n",
       "  </tbody>\n",
       "</table>\n",
       "</div>"
      ],
      "text/plain": [
       "            count         mean          std     min    25%    50%     75%  \\\n",
       "age        4521.0    41.170095    10.576211    19.0   33.0   39.0    49.0   \n",
       "job        4521.0     4.411192     3.255716     0.0    1.0    4.0     7.0   \n",
       "marital    4521.0     1.147755     0.599650     0.0    1.0    1.0     2.0   \n",
       "education  4521.0     1.231365     0.748744     0.0    1.0    1.0     2.0   \n",
       "default    4521.0     0.016810     0.128575     0.0    0.0    0.0     0.0   \n",
       "balance    4521.0  1422.657819  3009.638142 -3313.0   69.0  444.0  1480.0   \n",
       "housing    4521.0     0.566025     0.495676     0.0    0.0    1.0     1.0   \n",
       "loan       4521.0     0.152842     0.359875     0.0    0.0    0.0     0.0   \n",
       "contact    4521.0     0.652289     0.901498     0.0    0.0    0.0     2.0   \n",
       "day        4521.0    15.915284     8.247667     1.0    9.0   16.0    21.0   \n",
       "month      4521.0     5.540146     3.002763     0.0    3.0    6.0     8.0   \n",
       "duration   4521.0   263.961292   259.856633     4.0  104.0  185.0   329.0   \n",
       "campaign   4521.0     2.793630     3.109807     1.0    1.0    2.0     3.0   \n",
       "pdays      4521.0    39.766645   100.121124    -1.0   -1.0   -1.0    -1.0   \n",
       "previous   4521.0     0.542579     1.693562     0.0    0.0    0.0     0.0   \n",
       "poutcome   4521.0     2.559168     0.992051     0.0    3.0    3.0     3.0   \n",
       "y          4521.0     0.115240     0.319347     0.0    0.0    0.0     0.0   \n",
       "\n",
       "               max  \n",
       "age           87.0  \n",
       "job           11.0  \n",
       "marital        2.0  \n",
       "education      3.0  \n",
       "default        1.0  \n",
       "balance    71188.0  \n",
       "housing        1.0  \n",
       "loan           1.0  \n",
       "contact        2.0  \n",
       "day           31.0  \n",
       "month         11.0  \n",
       "duration    3025.0  \n",
       "campaign      50.0  \n",
       "pdays        871.0  \n",
       "previous      25.0  \n",
       "poutcome       3.0  \n",
       "y              1.0  "
      ]
     },
     "execution_count": 28,
     "metadata": {},
     "output_type": "execute_result"
    }
   ],
   "source": [
    "data.describe().transpose()"
   ]
  },
  {
   "cell_type": "code",
   "execution_count": 29,
   "metadata": {},
   "outputs": [],
   "source": [
    "temp = StandardScaler().fit_transform(data.drop('y',1))"
   ]
  },
  {
   "cell_type": "code",
   "execution_count": 31,
   "metadata": {},
   "outputs": [],
   "source": [
    "bankData = pd.DataFrame(temp , columns = data.columns[:-1])"
   ]
  },
  {
   "cell_type": "code",
   "execution_count": 32,
   "metadata": {},
   "outputs": [],
   "source": [
    "bankData['y'] = data['y']"
   ]
  },
  {
   "cell_type": "code",
   "execution_count": 33,
   "metadata": {},
   "outputs": [
    {
     "data": {
      "text/html": [
       "<div>\n",
       "<style scoped>\n",
       "    .dataframe tbody tr th:only-of-type {\n",
       "        vertical-align: middle;\n",
       "    }\n",
       "\n",
       "    .dataframe tbody tr th {\n",
       "        vertical-align: top;\n",
       "    }\n",
       "\n",
       "    .dataframe thead th {\n",
       "        text-align: right;\n",
       "    }\n",
       "</style>\n",
       "<table border=\"1\" class=\"dataframe\">\n",
       "  <thead>\n",
       "    <tr style=\"text-align: right;\">\n",
       "      <th></th>\n",
       "      <th>age</th>\n",
       "      <th>job</th>\n",
       "      <th>marital</th>\n",
       "      <th>education</th>\n",
       "      <th>default</th>\n",
       "      <th>balance</th>\n",
       "      <th>housing</th>\n",
       "      <th>loan</th>\n",
       "      <th>contact</th>\n",
       "      <th>day</th>\n",
       "      <th>month</th>\n",
       "      <th>duration</th>\n",
       "      <th>campaign</th>\n",
       "      <th>pdays</th>\n",
       "      <th>previous</th>\n",
       "      <th>poutcome</th>\n",
       "      <th>y</th>\n",
       "    </tr>\n",
       "  </thead>\n",
       "  <tbody>\n",
       "    <tr>\n",
       "      <th>0</th>\n",
       "      <td>-1.056270</td>\n",
       "      <td>1.716804</td>\n",
       "      <td>-0.246429</td>\n",
       "      <td>-1.644755</td>\n",
       "      <td>-0.130759</td>\n",
       "      <td>0.121072</td>\n",
       "      <td>-1.142051</td>\n",
       "      <td>-0.424756</td>\n",
       "      <td>-0.723642</td>\n",
       "      <td>0.374052</td>\n",
       "      <td>1.485414</td>\n",
       "      <td>-0.711861</td>\n",
       "      <td>-0.576829</td>\n",
       "      <td>-0.407218</td>\n",
       "      <td>-0.320413</td>\n",
       "      <td>0.444413</td>\n",
       "      <td>0</td>\n",
       "    </tr>\n",
       "    <tr>\n",
       "      <th>1</th>\n",
       "      <td>-0.772583</td>\n",
       "      <td>0.795246</td>\n",
       "      <td>-0.246429</td>\n",
       "      <td>-0.309038</td>\n",
       "      <td>-0.130759</td>\n",
       "      <td>1.118644</td>\n",
       "      <td>0.875617</td>\n",
       "      <td>2.354292</td>\n",
       "      <td>-0.723642</td>\n",
       "      <td>-0.596026</td>\n",
       "      <td>0.819288</td>\n",
       "      <td>-0.169194</td>\n",
       "      <td>-0.576829</td>\n",
       "      <td>2.989044</td>\n",
       "      <td>2.041734</td>\n",
       "      <td>-2.579961</td>\n",
       "      <td>0</td>\n",
       "    </tr>\n",
       "    <tr>\n",
       "      <th>2</th>\n",
       "      <td>-0.583458</td>\n",
       "      <td>-0.126313</td>\n",
       "      <td>1.421396</td>\n",
       "      <td>1.026680</td>\n",
       "      <td>-0.130759</td>\n",
       "      <td>-0.024144</td>\n",
       "      <td>0.875617</td>\n",
       "      <td>-0.424756</td>\n",
       "      <td>-0.723642</td>\n",
       "      <td>0.010273</td>\n",
       "      <td>-1.845220</td>\n",
       "      <td>-0.303898</td>\n",
       "      <td>-0.576829</td>\n",
       "      <td>2.899143</td>\n",
       "      <td>0.270124</td>\n",
       "      <td>-2.579961</td>\n",
       "      <td>0</td>\n",
       "    </tr>\n",
       "    <tr>\n",
       "      <th>3</th>\n",
       "      <td>-1.056270</td>\n",
       "      <td>-0.126313</td>\n",
       "      <td>-0.246429</td>\n",
       "      <td>1.026680</td>\n",
       "      <td>-0.130759</td>\n",
       "      <td>0.017726</td>\n",
       "      <td>0.875617</td>\n",
       "      <td>2.354292</td>\n",
       "      <td>1.495133</td>\n",
       "      <td>-1.566105</td>\n",
       "      <td>0.153161</td>\n",
       "      <td>-0.250017</td>\n",
       "      <td>0.387967</td>\n",
       "      <td>-0.407218</td>\n",
       "      <td>-0.320413</td>\n",
       "      <td>0.444413</td>\n",
       "      <td>0</td>\n",
       "    </tr>\n",
       "    <tr>\n",
       "      <th>4</th>\n",
       "      <td>1.686036</td>\n",
       "      <td>-1.047871</td>\n",
       "      <td>-0.246429</td>\n",
       "      <td>-0.309038</td>\n",
       "      <td>-0.130759</td>\n",
       "      <td>-0.472753</td>\n",
       "      <td>0.875617</td>\n",
       "      <td>-0.424756</td>\n",
       "      <td>1.495133</td>\n",
       "      <td>-1.323585</td>\n",
       "      <td>0.819288</td>\n",
       "      <td>-0.146102</td>\n",
       "      <td>-0.576829</td>\n",
       "      <td>-0.407218</td>\n",
       "      <td>-0.320413</td>\n",
       "      <td>0.444413</td>\n",
       "      <td>0</td>\n",
       "    </tr>\n",
       "  </tbody>\n",
       "</table>\n",
       "</div>"
      ],
      "text/plain": [
       "        age       job   marital  education   default   balance   housing  \\\n",
       "0 -1.056270  1.716804 -0.246429  -1.644755 -0.130759  0.121072 -1.142051   \n",
       "1 -0.772583  0.795246 -0.246429  -0.309038 -0.130759  1.118644  0.875617   \n",
       "2 -0.583458 -0.126313  1.421396   1.026680 -0.130759 -0.024144  0.875617   \n",
       "3 -1.056270 -0.126313 -0.246429   1.026680 -0.130759  0.017726  0.875617   \n",
       "4  1.686036 -1.047871 -0.246429  -0.309038 -0.130759 -0.472753  0.875617   \n",
       "\n",
       "       loan   contact       day     month  duration  campaign     pdays  \\\n",
       "0 -0.424756 -0.723642  0.374052  1.485414 -0.711861 -0.576829 -0.407218   \n",
       "1  2.354292 -0.723642 -0.596026  0.819288 -0.169194 -0.576829  2.989044   \n",
       "2 -0.424756 -0.723642  0.010273 -1.845220 -0.303898 -0.576829  2.899143   \n",
       "3  2.354292  1.495133 -1.566105  0.153161 -0.250017  0.387967 -0.407218   \n",
       "4 -0.424756  1.495133 -1.323585  0.819288 -0.146102 -0.576829 -0.407218   \n",
       "\n",
       "   previous  poutcome  y  \n",
       "0 -0.320413  0.444413  0  \n",
       "1  2.041734 -2.579961  0  \n",
       "2  0.270124 -2.579961  0  \n",
       "3 -0.320413  0.444413  0  \n",
       "4 -0.320413  0.444413  0  "
      ]
     },
     "execution_count": 33,
     "metadata": {},
     "output_type": "execute_result"
    }
   ],
   "source": [
    "bankData.head()"
   ]
  },
  {
   "cell_type": "code",
   "execution_count": 35,
   "metadata": {},
   "outputs": [],
   "source": [
    "from sklearn.ensemble import RandomForestClassifier\n",
    "from imblearn.over_sampling import SMOTE\n",
    "from sklearn.model_selection import train_test_split"
   ]
  },
  {
   "cell_type": "code",
   "execution_count": 36,
   "metadata": {},
   "outputs": [],
   "source": [
    "xTrain,xTest, yTrain,yTest = train_test_split(bankData.drop('y',1),bankData['y'],test_size=0.2)"
   ]
  },
  {
   "cell_type": "code",
   "execution_count": 37,
   "metadata": {},
   "outputs": [],
   "source": [
    "rf = RandomForestClassifier().fit(xTrain,yTrain)"
   ]
  },
  {
   "cell_type": "code",
   "execution_count": 40,
   "metadata": {},
   "outputs": [
    {
     "data": {
      "text/plain": [
       "{0.0016585688515846975,\n",
       " 0.008923580408587255,\n",
       " 0.02075959165009965,\n",
       " 0.021292335266422036,\n",
       " 0.02729020837824618,\n",
       " 0.027512226818156543,\n",
       " 0.02883602525110797,\n",
       " 0.03883020720005616,\n",
       " 0.047538128415453774,\n",
       " 0.047977908940735725,\n",
       " 0.05140002606928601,\n",
       " 0.08051600458179037,\n",
       " 0.09103676404689626,\n",
       " 0.10294330891171151,\n",
       " 0.10789127399278868,\n",
       " 0.29559384121707727}"
      ]
     },
     "execution_count": 40,
     "metadata": {},
     "output_type": "execute_result"
    }
   ],
   "source": [
    "set(rf.feature_importances_)"
   ]
  },
  {
   "cell_type": "code",
   "execution_count": 41,
   "metadata": {},
   "outputs": [
    {
     "data": {
      "text/plain": [
       "0    3197\n",
       "1     419\n",
       "Name: y, dtype: int64"
      ]
     },
     "execution_count": 41,
     "metadata": {},
     "output_type": "execute_result"
    }
   ],
   "source": [
    "yTrain.value_counts()"
   ]
  },
  {
   "cell_type": "code",
   "execution_count": 43,
   "metadata": {},
   "outputs": [],
   "source": [
    "xTrain,yTrain = SMOTE(k_neighbors=5).fit_sample(xTrain,yTrain)"
   ]
  },
  {
   "cell_type": "code",
   "execution_count": 44,
   "metadata": {},
   "outputs": [
    {
     "data": {
      "text/plain": [
       "1    3197\n",
       "0    3197\n",
       "Name: y, dtype: int64"
      ]
     },
     "execution_count": 44,
     "metadata": {},
     "output_type": "execute_result"
    }
   ],
   "source": [
    "yTrain.value_counts()"
   ]
  },
  {
   "cell_type": "code",
   "execution_count": 45,
   "metadata": {},
   "outputs": [],
   "source": [
    "rf = RandomForestClassifier().fit(xTrain,yTrain)"
   ]
  },
  {
   "cell_type": "code",
   "execution_count": 51,
   "metadata": {},
   "outputs": [],
   "source": [
    "sig = rf.feature_importances_"
   ]
  },
  {
   "cell_type": "code",
   "execution_count": 52,
   "metadata": {},
   "outputs": [],
   "source": [
    "copyData = bankData.copy()"
   ]
  },
  {
   "cell_type": "code",
   "execution_count": 53,
   "metadata": {
    "scrolled": true
   },
   "outputs": [
    {
     "data": {
      "text/html": [
       "<div>\n",
       "<style scoped>\n",
       "    .dataframe tbody tr th:only-of-type {\n",
       "        vertical-align: middle;\n",
       "    }\n",
       "\n",
       "    .dataframe tbody tr th {\n",
       "        vertical-align: top;\n",
       "    }\n",
       "\n",
       "    .dataframe thead th {\n",
       "        text-align: right;\n",
       "    }\n",
       "</style>\n",
       "<table border=\"1\" class=\"dataframe\">\n",
       "  <thead>\n",
       "    <tr style=\"text-align: right;\">\n",
       "      <th></th>\n",
       "      <th>age</th>\n",
       "      <th>job</th>\n",
       "      <th>marital</th>\n",
       "      <th>education</th>\n",
       "      <th>default</th>\n",
       "      <th>balance</th>\n",
       "      <th>housing</th>\n",
       "      <th>loan</th>\n",
       "      <th>contact</th>\n",
       "      <th>day</th>\n",
       "      <th>month</th>\n",
       "      <th>duration</th>\n",
       "      <th>campaign</th>\n",
       "      <th>pdays</th>\n",
       "      <th>previous</th>\n",
       "      <th>poutcome</th>\n",
       "      <th>y</th>\n",
       "    </tr>\n",
       "  </thead>\n",
       "  <tbody>\n",
       "    <tr>\n",
       "      <th>0</th>\n",
       "      <td>-1.056270</td>\n",
       "      <td>1.716804</td>\n",
       "      <td>-0.246429</td>\n",
       "      <td>-1.644755</td>\n",
       "      <td>-0.130759</td>\n",
       "      <td>0.121072</td>\n",
       "      <td>-1.142051</td>\n",
       "      <td>-0.424756</td>\n",
       "      <td>-0.723642</td>\n",
       "      <td>0.374052</td>\n",
       "      <td>1.485414</td>\n",
       "      <td>-0.711861</td>\n",
       "      <td>-0.576829</td>\n",
       "      <td>-0.407218</td>\n",
       "      <td>-0.320413</td>\n",
       "      <td>0.444413</td>\n",
       "      <td>0</td>\n",
       "    </tr>\n",
       "    <tr>\n",
       "      <th>1</th>\n",
       "      <td>-0.772583</td>\n",
       "      <td>0.795246</td>\n",
       "      <td>-0.246429</td>\n",
       "      <td>-0.309038</td>\n",
       "      <td>-0.130759</td>\n",
       "      <td>1.118644</td>\n",
       "      <td>0.875617</td>\n",
       "      <td>2.354292</td>\n",
       "      <td>-0.723642</td>\n",
       "      <td>-0.596026</td>\n",
       "      <td>0.819288</td>\n",
       "      <td>-0.169194</td>\n",
       "      <td>-0.576829</td>\n",
       "      <td>2.989044</td>\n",
       "      <td>2.041734</td>\n",
       "      <td>-2.579961</td>\n",
       "      <td>0</td>\n",
       "    </tr>\n",
       "    <tr>\n",
       "      <th>2</th>\n",
       "      <td>-0.583458</td>\n",
       "      <td>-0.126313</td>\n",
       "      <td>1.421396</td>\n",
       "      <td>1.026680</td>\n",
       "      <td>-0.130759</td>\n",
       "      <td>-0.024144</td>\n",
       "      <td>0.875617</td>\n",
       "      <td>-0.424756</td>\n",
       "      <td>-0.723642</td>\n",
       "      <td>0.010273</td>\n",
       "      <td>-1.845220</td>\n",
       "      <td>-0.303898</td>\n",
       "      <td>-0.576829</td>\n",
       "      <td>2.899143</td>\n",
       "      <td>0.270124</td>\n",
       "      <td>-2.579961</td>\n",
       "      <td>0</td>\n",
       "    </tr>\n",
       "    <tr>\n",
       "      <th>3</th>\n",
       "      <td>-1.056270</td>\n",
       "      <td>-0.126313</td>\n",
       "      <td>-0.246429</td>\n",
       "      <td>1.026680</td>\n",
       "      <td>-0.130759</td>\n",
       "      <td>0.017726</td>\n",
       "      <td>0.875617</td>\n",
       "      <td>2.354292</td>\n",
       "      <td>1.495133</td>\n",
       "      <td>-1.566105</td>\n",
       "      <td>0.153161</td>\n",
       "      <td>-0.250017</td>\n",
       "      <td>0.387967</td>\n",
       "      <td>-0.407218</td>\n",
       "      <td>-0.320413</td>\n",
       "      <td>0.444413</td>\n",
       "      <td>0</td>\n",
       "    </tr>\n",
       "    <tr>\n",
       "      <th>4</th>\n",
       "      <td>1.686036</td>\n",
       "      <td>-1.047871</td>\n",
       "      <td>-0.246429</td>\n",
       "      <td>-0.309038</td>\n",
       "      <td>-0.130759</td>\n",
       "      <td>-0.472753</td>\n",
       "      <td>0.875617</td>\n",
       "      <td>-0.424756</td>\n",
       "      <td>1.495133</td>\n",
       "      <td>-1.323585</td>\n",
       "      <td>0.819288</td>\n",
       "      <td>-0.146102</td>\n",
       "      <td>-0.576829</td>\n",
       "      <td>-0.407218</td>\n",
       "      <td>-0.320413</td>\n",
       "      <td>0.444413</td>\n",
       "      <td>0</td>\n",
       "    </tr>\n",
       "  </tbody>\n",
       "</table>\n",
       "</div>"
      ],
      "text/plain": [
       "        age       job   marital  education   default   balance   housing  \\\n",
       "0 -1.056270  1.716804 -0.246429  -1.644755 -0.130759  0.121072 -1.142051   \n",
       "1 -0.772583  0.795246 -0.246429  -0.309038 -0.130759  1.118644  0.875617   \n",
       "2 -0.583458 -0.126313  1.421396   1.026680 -0.130759 -0.024144  0.875617   \n",
       "3 -1.056270 -0.126313 -0.246429   1.026680 -0.130759  0.017726  0.875617   \n",
       "4  1.686036 -1.047871 -0.246429  -0.309038 -0.130759 -0.472753  0.875617   \n",
       "\n",
       "       loan   contact       day     month  duration  campaign     pdays  \\\n",
       "0 -0.424756 -0.723642  0.374052  1.485414 -0.711861 -0.576829 -0.407218   \n",
       "1  2.354292 -0.723642 -0.596026  0.819288 -0.169194 -0.576829  2.989044   \n",
       "2 -0.424756 -0.723642  0.010273 -1.845220 -0.303898 -0.576829  2.899143   \n",
       "3  2.354292  1.495133 -1.566105  0.153161 -0.250017  0.387967 -0.407218   \n",
       "4 -0.424756  1.495133 -1.323585  0.819288 -0.146102 -0.576829 -0.407218   \n",
       "\n",
       "   previous  poutcome  y  \n",
       "0 -0.320413  0.444413  0  \n",
       "1  2.041734 -2.579961  0  \n",
       "2  0.270124 -2.579961  0  \n",
       "3 -0.320413  0.444413  0  \n",
       "4 -0.320413  0.444413  0  "
      ]
     },
     "execution_count": 53,
     "metadata": {},
     "output_type": "execute_result"
    }
   ],
   "source": [
    "copyData.head()"
   ]
  },
  {
   "cell_type": "code",
   "execution_count": 59,
   "metadata": {},
   "outputs": [],
   "source": [
    "copyData.drop('y',1,inplace=True)"
   ]
  },
  {
   "cell_type": "code",
   "execution_count": 60,
   "metadata": {},
   "outputs": [],
   "source": [
    "copyData.drop(copyData.columns[sig<0.05],1,inplace=True)"
   ]
  },
  {
   "cell_type": "code",
   "execution_count": 61,
   "metadata": {},
   "outputs": [
    {
     "data": {
      "text/html": [
       "<div>\n",
       "<style scoped>\n",
       "    .dataframe tbody tr th:only-of-type {\n",
       "        vertical-align: middle;\n",
       "    }\n",
       "\n",
       "    .dataframe tbody tr th {\n",
       "        vertical-align: top;\n",
       "    }\n",
       "\n",
       "    .dataframe thead th {\n",
       "        text-align: right;\n",
       "    }\n",
       "</style>\n",
       "<table border=\"1\" class=\"dataframe\">\n",
       "  <thead>\n",
       "    <tr style=\"text-align: right;\">\n",
       "      <th></th>\n",
       "      <th>age</th>\n",
       "      <th>job</th>\n",
       "      <th>balance</th>\n",
       "      <th>day</th>\n",
       "      <th>month</th>\n",
       "      <th>duration</th>\n",
       "      <th>campaign</th>\n",
       "    </tr>\n",
       "  </thead>\n",
       "  <tbody>\n",
       "    <tr>\n",
       "      <th>0</th>\n",
       "      <td>-1.056270</td>\n",
       "      <td>1.716804</td>\n",
       "      <td>0.121072</td>\n",
       "      <td>0.374052</td>\n",
       "      <td>1.485414</td>\n",
       "      <td>-0.711861</td>\n",
       "      <td>-0.576829</td>\n",
       "    </tr>\n",
       "    <tr>\n",
       "      <th>1</th>\n",
       "      <td>-0.772583</td>\n",
       "      <td>0.795246</td>\n",
       "      <td>1.118644</td>\n",
       "      <td>-0.596026</td>\n",
       "      <td>0.819288</td>\n",
       "      <td>-0.169194</td>\n",
       "      <td>-0.576829</td>\n",
       "    </tr>\n",
       "    <tr>\n",
       "      <th>2</th>\n",
       "      <td>-0.583458</td>\n",
       "      <td>-0.126313</td>\n",
       "      <td>-0.024144</td>\n",
       "      <td>0.010273</td>\n",
       "      <td>-1.845220</td>\n",
       "      <td>-0.303898</td>\n",
       "      <td>-0.576829</td>\n",
       "    </tr>\n",
       "    <tr>\n",
       "      <th>3</th>\n",
       "      <td>-1.056270</td>\n",
       "      <td>-0.126313</td>\n",
       "      <td>0.017726</td>\n",
       "      <td>-1.566105</td>\n",
       "      <td>0.153161</td>\n",
       "      <td>-0.250017</td>\n",
       "      <td>0.387967</td>\n",
       "    </tr>\n",
       "    <tr>\n",
       "      <th>4</th>\n",
       "      <td>1.686036</td>\n",
       "      <td>-1.047871</td>\n",
       "      <td>-0.472753</td>\n",
       "      <td>-1.323585</td>\n",
       "      <td>0.819288</td>\n",
       "      <td>-0.146102</td>\n",
       "      <td>-0.576829</td>\n",
       "    </tr>\n",
       "  </tbody>\n",
       "</table>\n",
       "</div>"
      ],
      "text/plain": [
       "        age       job   balance       day     month  duration  campaign\n",
       "0 -1.056270  1.716804  0.121072  0.374052  1.485414 -0.711861 -0.576829\n",
       "1 -0.772583  0.795246  1.118644 -0.596026  0.819288 -0.169194 -0.576829\n",
       "2 -0.583458 -0.126313 -0.024144  0.010273 -1.845220 -0.303898 -0.576829\n",
       "3 -1.056270 -0.126313  0.017726 -1.566105  0.153161 -0.250017  0.387967\n",
       "4  1.686036 -1.047871 -0.472753 -1.323585  0.819288 -0.146102 -0.576829"
      ]
     },
     "execution_count": 61,
     "metadata": {},
     "output_type": "execute_result"
    }
   ],
   "source": [
    "copyData.head()"
   ]
  },
  {
   "cell_type": "code",
   "execution_count": 70,
   "metadata": {},
   "outputs": [],
   "source": [
    "x_train,xTest, yTrain,yTest = train_test_split(copyData,bankData['y'],test_size=0.2)"
   ]
  },
  {
   "cell_type": "code",
   "execution_count": 71,
   "metadata": {},
   "outputs": [
    {
     "data": {
      "text/plain": [
       "(3616, 7)"
      ]
     },
     "execution_count": 71,
     "metadata": {},
     "output_type": "execute_result"
    }
   ],
   "source": [
    "x_train.shape"
   ]
  },
  {
   "cell_type": "code",
   "execution_count": 72,
   "metadata": {},
   "outputs": [],
   "source": [
    "xTrain,yTrain = SMOTE(k_neighbors=4).fit_sample(x_train,yTrain)"
   ]
  },
  {
   "cell_type": "code",
   "execution_count": 73,
   "metadata": {},
   "outputs": [
    {
     "data": {
      "text/plain": [
       "(6400, 7)"
      ]
     },
     "execution_count": 73,
     "metadata": {},
     "output_type": "execute_result"
    }
   ],
   "source": [
    "xTrain.shape"
   ]
  },
  {
   "cell_type": "code",
   "execution_count": 74,
   "metadata": {},
   "outputs": [
    {
     "data": {
      "text/plain": [
       "1    3200\n",
       "0    3200\n",
       "Name: y, dtype: int64"
      ]
     },
     "execution_count": 74,
     "metadata": {},
     "output_type": "execute_result"
    }
   ],
   "source": [
    "yTrain.value_counts()"
   ]
  },
  {
   "cell_type": "code",
   "execution_count": 64,
   "metadata": {},
   "outputs": [],
   "source": [
    "from keras.models import Sequential\n",
    "from keras.layers import Dropout,Dense\n",
    "from keras.callbacks import EarlyStopping"
   ]
  },
  {
   "cell_type": "code",
   "execution_count": 83,
   "metadata": {},
   "outputs": [],
   "source": [
    "model = Sequential()"
   ]
  },
  {
   "cell_type": "code",
   "execution_count": 84,
   "metadata": {},
   "outputs": [],
   "source": [
    "model.add(Dense(20,activation='relu',input_shape=(7,)))\n",
    "model.add(Dense(20,activation='relu'))\n",
    "model.add(Dense(20,activation='relu'))\n",
    "model.add(Dense(1,activation='sigmoid'))\n",
    "\n",
    "model.compile(optimizer='adam',loss='binary_crossentropy')"
   ]
  },
  {
   "cell_type": "code",
   "execution_count": 85,
   "metadata": {},
   "outputs": [
    {
     "data": {
      "text/plain": [
       "<keras.callbacks.callbacks.History at 0x1a39cf3090>"
      ]
     },
     "execution_count": 85,
     "metadata": {},
     "output_type": "execute_result"
    }
   ],
   "source": [
    "model.fit(xTrain,yTrain,validation_data=(xTest,yTest),epochs=200,verbose=0)"
   ]
  },
  {
   "cell_type": "code",
   "execution_count": 86,
   "metadata": {},
   "outputs": [
    {
     "name": "stdout",
     "output_type": "stream",
     "text": [
      "905/905 [==============================] - 0s 35us/step\n"
     ]
    },
    {
     "data": {
      "text/plain": [
       "0.6666823928064322"
      ]
     },
     "execution_count": 86,
     "metadata": {},
     "output_type": "execute_result"
    }
   ],
   "source": [
    "model.evaluate(xTest,yTest)"
   ]
  },
  {
   "cell_type": "code",
   "execution_count": 87,
   "metadata": {},
   "outputs": [
    {
     "name": "stdout",
     "output_type": "stream",
     "text": [
      "6400/6400 [==============================] - 0s 21us/step\n"
     ]
    },
    {
     "data": {
      "text/plain": [
       "0.16099594350904226"
      ]
     },
     "execution_count": 87,
     "metadata": {},
     "output_type": "execute_result"
    }
   ],
   "source": [
    "model.evaluate(xTrain,yTrain)"
   ]
  },
  {
   "cell_type": "code",
   "execution_count": 88,
   "metadata": {},
   "outputs": [],
   "source": [
    "his = pd.DataFrame(model.history.history)"
   ]
  },
  {
   "cell_type": "code",
   "execution_count": 89,
   "metadata": {},
   "outputs": [
    {
     "data": {
      "text/plain": [
       "<matplotlib.axes._subplots.AxesSubplot at 0x1a39b8ff90>"
      ]
     },
     "execution_count": 89,
     "metadata": {},
     "output_type": "execute_result"
    },
    {
     "data": {
      "image/png": "[encoded data removed]",
      "text/plain": [
       "<Figure size 432x288 with 1 Axes>"
      ]
     },
     "metadata": {
      "needs_background": "light"
     },
     "output_type": "display_data"
    }
   ],
   "source": [
    "his.plot()"
   ]
  },
  {
   "cell_type": "code",
   "execution_count": 93,
   "metadata": {},
   "outputs": [],
   "source": [
    "model = Sequential()\n",
    "model.add(Dense(20,activation='relu',input_shape=(7,)))\n",
    "model.add(Dense(20,activation='relu'))\n",
    "model.add(Dense(20,activation='relu'))\n",
    "model.add(Dense(1,activation='sigmoid'))\n",
    "\n",
    "model.compile(optimizer='adam',loss='binary_crossentropy')"
   ]
  },
  {
   "cell_type": "code",
   "execution_count": 94,
   "metadata": {},
   "outputs": [],
   "source": [
    "call = EarlyStopping(monitor='val_loss',mode='min',patience=20,verbose=0)"
   ]
  },
  {
   "cell_type": "code",
   "execution_count": 95,
   "metadata": {
    "scrolled": true
   },
   "outputs": [
    {
     "name": "stdout",
     "output_type": "stream",
     "text": [
      "Train on 6400 samples, validate on 905 samples\n",
      "Epoch 1/200\n",
      "6400/6400 [==============================] - 1s 104us/step - loss: 0.5691 - val_loss: 0.5197\n",
      "Epoch 2/200\n",
      "6400/6400 [==============================] - 0s 56us/step - loss: 0.4993 - val_loss: 0.5065\n",
      "Epoch 3/200\n",
      "6400/6400 [==============================] - 0s 64us/step - loss: 0.4806 - val_loss: 0.4576\n",
      "Epoch 4/200\n",
      "6400/6400 [==============================] - 0s 66us/step - loss: 0.4689 - val_loss: 0.4923\n",
      "Epoch 5/200\n",
      "6400/6400 [==============================] - 0s 65us/step - loss: 0.4606 - val_loss: 0.4796\n",
      "Epoch 6/200\n",
      "6400/6400 [==============================] - 0s 71us/step - loss: 0.4523 - val_loss: 0.4853\n",
      "Epoch 7/200\n",
      "6400/6400 [==============================] - 0s 65us/step - loss: 0.4464 - val_loss: 0.4606\n",
      "Epoch 8/200\n",
      "6400/6400 [==============================] - 0s 62us/step - loss: 0.4401 - val_loss: 0.5426\n",
      "Epoch 9/200\n",
      "6400/6400 [==============================] - 0s 58us/step - loss: 0.4335 - val_loss: 0.5168\n",
      "Epoch 10/200\n",
      "6400/6400 [==============================] - 1s 90us/step - loss: 0.4274 - val_loss: 0.4767\n",
      "Epoch 11/200\n",
      "6400/6400 [==============================] - 0s 65us/step - loss: 0.4220 - val_loss: 0.5228\n",
      "Epoch 12/200\n",
      "6400/6400 [==============================] - 0s 68us/step - loss: 0.4181 - val_loss: 0.4754\n",
      "Epoch 13/200\n",
      "6400/6400 [==============================] - 0s 56us/step - loss: 0.4142 - val_loss: 0.4473\n",
      "Epoch 14/200\n",
      "6400/6400 [==============================] - 0s 56us/step - loss: 0.4073 - val_loss: 0.4780\n",
      "Epoch 15/200\n",
      "6400/6400 [==============================] - 0s 56us/step - loss: 0.4025 - val_loss: 0.4650\n",
      "Epoch 16/200\n",
      "6400/6400 [==============================] - 0s 57us/step - loss: 0.3985 - val_loss: 0.4643\n",
      "Epoch 17/200\n",
      "6400/6400 [==============================] - 0s 57us/step - loss: 0.3961 - val_loss: 0.4475\n",
      "Epoch 18/200\n",
      "6400/6400 [==============================] - 0s 58us/step - loss: 0.3913 - val_loss: 0.4393\n",
      "Epoch 19/200\n",
      "6400/6400 [==============================] - 0s 58us/step - loss: 0.3863 - val_loss: 0.4198\n",
      "Epoch 20/200\n",
      "6400/6400 [==============================] - 0s 56us/step - loss: 0.3849 - val_loss: 0.4650\n",
      "Epoch 21/200\n",
      "6400/6400 [==============================] - 0s 57us/step - loss: 0.3794 - val_loss: 0.4506\n",
      "Epoch 22/200\n",
      "6400/6400 [==============================] - 0s 57us/step - loss: 0.3757 - val_loss: 0.4831\n",
      "Epoch 23/200\n",
      "6400/6400 [==============================] - 0s 57us/step - loss: 0.3738 - val_loss: 0.4404\n",
      "Epoch 24/200\n",
      "6400/6400 [==============================] - 0s 57us/step - loss: 0.3678 - val_loss: 0.4662\n",
      "Epoch 25/200\n",
      "6400/6400 [==============================] - 0s 56us/step - loss: 0.3663 - val_loss: 0.4560\n",
      "Epoch 26/200\n",
      "6400/6400 [==============================] - 0s 57us/step - loss: 0.3621 - val_loss: 0.4231\n",
      "Epoch 27/200\n",
      "6400/6400 [==============================] - 0s 57us/step - loss: 0.3596 - val_loss: 0.4688\n",
      "Epoch 28/200\n",
      "6400/6400 [==============================] - 0s 66us/step - loss: 0.3556 - val_loss: 0.4812\n",
      "Epoch 29/200\n",
      "6400/6400 [==============================] - 0s 59us/step - loss: 0.3526 - val_loss: 0.4464\n",
      "Epoch 30/200\n",
      "6400/6400 [==============================] - 0s 66us/step - loss: 0.3505 - val_loss: 0.4503\n",
      "Epoch 31/200\n",
      "6400/6400 [==============================] - 0s 74us/step - loss: 0.3469 - val_loss: 0.4328\n",
      "Epoch 32/200\n",
      "6400/6400 [==============================] - 0s 62us/step - loss: 0.3432 - val_loss: 0.4794\n",
      "Epoch 33/200\n",
      "6400/6400 [==============================] - 0s 67us/step - loss: 0.3415 - val_loss: 0.4554\n",
      "Epoch 34/200\n",
      "6400/6400 [==============================] - 0s 64us/step - loss: 0.3406 - val_loss: 0.4167\n",
      "Epoch 35/200\n",
      "6400/6400 [==============================] - 0s 56us/step - loss: 0.3348 - val_loss: 0.4700\n",
      "Epoch 36/200\n",
      "6400/6400 [==============================] - 0s 66us/step - loss: 0.3320 - val_loss: 0.4525\n",
      "Epoch 37/200\n",
      "6400/6400 [==============================] - 0s 63us/step - loss: 0.3287 - val_loss: 0.5201\n",
      "Epoch 38/200\n",
      "6400/6400 [==============================] - 0s 65us/step - loss: 0.3261 - val_loss: 0.4572\n",
      "Epoch 39/200\n",
      "6400/6400 [==============================] - 0s 66us/step - loss: 0.3232 - val_loss: 0.4902\n",
      "Epoch 40/200\n",
      "6400/6400 [==============================] - 0s 66us/step - loss: 0.3223 - val_loss: 0.4592\n",
      "Epoch 41/200\n",
      "6400/6400 [==============================] - 0s 60us/step - loss: 0.3195 - val_loss: 0.4516\n",
      "Epoch 42/200\n",
      "6400/6400 [==============================] - 0s 57us/step - loss: 0.3168 - val_loss: 0.4650\n",
      "Epoch 43/200\n",
      "6400/6400 [==============================] - 0s 59us/step - loss: 0.3122 - val_loss: 0.4727\n",
      "Epoch 44/200\n",
      "6400/6400 [==============================] - 0s 69us/step - loss: 0.3119 - val_loss: 0.4454\n",
      "Epoch 45/200\n",
      "6400/6400 [==============================] - 0s 60us/step - loss: 0.3072 - val_loss: 0.4782\n",
      "Epoch 46/200\n",
      "6400/6400 [==============================] - 0s 58us/step - loss: 0.3050 - val_loss: 0.4283\n",
      "Epoch 47/200\n",
      "6400/6400 [==============================] - 0s 55us/step - loss: 0.3046 - val_loss: 0.4612\n",
      "Epoch 48/200\n",
      "6400/6400 [==============================] - 0s 56us/step - loss: 0.3013 - val_loss: 0.4839\n",
      "Epoch 49/200\n",
      "6400/6400 [==============================] - 0s 56us/step - loss: 0.2987 - val_loss: 0.4766\n",
      "Epoch 50/200\n",
      "6400/6400 [==============================] - 0s 56us/step - loss: 0.2963 - val_loss: 0.4574\n",
      "Epoch 51/200\n",
      "6400/6400 [==============================] - 0s 56us/step - loss: 0.2944 - val_loss: 0.4631\n",
      "Epoch 52/200\n",
      "6400/6400 [==============================] - 0s 55us/step - loss: 0.2904 - val_loss: 0.4258\n",
      "Epoch 53/200\n",
      "6400/6400 [==============================] - 0s 56us/step - loss: 0.2927 - val_loss: 0.4581\n",
      "Epoch 54/200\n",
      "6400/6400 [==============================] - 0s 57us/step - loss: 0.2887 - val_loss: 0.4279\n"
     ]
    },
    {
     "data": {
      "text/plain": [
       "<keras.callbacks.callbacks.History at 0x1a3e332ed0>"
      ]
     },
     "execution_count": 95,
     "metadata": {},
     "output_type": "execute_result"
    }
   ],
   "source": [
    "model.fit(xTrain,yTrain,callbacks=[call],validation_data=(xTest,yTest),epochs=200)"
   ]
  },
  {
   "cell_type": "code",
   "execution_count": 96,
   "metadata": {},
   "outputs": [],
   "source": [
    "his = pd.DataFrame(model.history.history)"
   ]
  },
  {
   "cell_type": "code",
   "execution_count": 97,
   "metadata": {
    "scrolled": true
   },
   "outputs": [
    {
     "data": {
      "text/plain": [
       "<matplotlib.axes._subplots.AxesSubplot at 0x1a3e39fe10>"
      ]
     },
     "execution_count": 97,
     "metadata": {},
     "output_type": "execute_result"
    },
    {
     "data": {
      "image/png": "[encoded data removed]",
      "text/plain": [
       "<Figure size 432x288 with 1 Axes>"
      ]
     },
     "metadata": {
      "needs_background": "light"
     },
     "output_type": "display_data"
    }
   ],
   "source": [
    "his.plot()"
   ]
  },
  {
   "cell_type": "code",
   "execution_count": 129,
   "metadata": {},
   "outputs": [],
   "source": [
    "x_train,x_test, y_train,y_test = train_test_split(copyData,bankData['y'],test_size=0.2)"
   ]
  },
  {
   "cell_type": "code",
   "execution_count": 130,
   "metadata": {},
   "outputs": [],
   "source": [
    "x_train,y_train = SMOTE(k_neighbors=4).fit_sample(x_train,y_train)"
   ]
  },
  {
   "cell_type": "code",
   "execution_count": 131,
   "metadata": {},
   "outputs": [
    {
     "data": {
      "text/plain": [
       "(6382, 7)"
      ]
     },
     "execution_count": 131,
     "metadata": {},
     "output_type": "execute_result"
    }
   ],
   "source": [
    "x_train.shape"
   ]
  },
  {
   "cell_type": "code",
   "execution_count": 133,
   "metadata": {},
   "outputs": [
    {
     "data": {
      "text/plain": [
       "1    3191\n",
       "0    3191\n",
       "Name: y, dtype: int64"
      ]
     },
     "execution_count": 133,
     "metadata": {},
     "output_type": "execute_result"
    }
   ],
   "source": [
    "y_train.value_counts()"
   ]
  },
  {
   "cell_type": "code",
   "execution_count": 158,
   "metadata": {},
   "outputs": [],
   "source": [
    "model = Sequential()\n",
    "\n",
    "model.add(Dense(60,activation='relu',input_shape=(7,)))\n",
    "model.add(Dropout(0.5))\n",
    "\n",
    "model.add(Dense(55,activation='relu'))\n",
    "model.add(Dropout(0.5))\n",
    "\n",
    "model.add(Dense(40,activation='relu'))\n",
    "model.add(Dropout(0.5))\n",
    "\n",
    "model.add(Dense(35,activation='relu'))\n",
    "model.add(Dropout(0.5))\n",
    "\n",
    "model.add(Dense(35,activation='relu'))\n",
    "model.add(Dropout(0.5))\n",
    "\n",
    "model.add(Dense(1,activation='sigmoid'))\n",
    "\n",
    "model.compile(optimizer='adam',loss='binary_crossentropy')"
   ]
  },
  {
   "cell_type": "code",
   "execution_count": 159,
   "metadata": {},
   "outputs": [
    {
     "data": {
      "text/plain": [
       "<keras.callbacks.callbacks.History at 0x1a41431110>"
      ]
     },
     "execution_count": 159,
     "metadata": {},
     "output_type": "execute_result"
    }
   ],
   "source": [
    "model.fit(x_train,y_train,callbacks=[call],validation_data=(x_test,y_test),epochs=900,verbose=0)"
   ]
  },
  {
   "cell_type": "code",
   "execution_count": 160,
   "metadata": {},
   "outputs": [
    {
     "data": {
      "text/plain": [
       "<matplotlib.axes._subplots.AxesSubplot at 0x1a41775710>"
      ]
     },
     "execution_count": 160,
     "metadata": {},
     "output_type": "execute_result"
    },
    {
     "data": {
      "image/png": "[encoded data removed]",
      "text/plain": [
       "<Figure size 432x288 with 1 Axes>"
      ]
     },
     "metadata": {
      "needs_background": "light"
     },
     "output_type": "display_data"
    }
   ],
   "source": [
    "his = pd.DataFrame(model.history.history)\n",
    "\n",
    "his.plot()"
   ]
  },
  {
   "cell_type": "code",
   "execution_count": 161,
   "metadata": {},
   "outputs": [],
   "source": [
    "pred = model.predict_classes(xTest)"
   ]
  },
  {
   "cell_type": "code",
   "execution_count": 162,
   "metadata": {},
   "outputs": [],
   "source": [
    "from sklearn.metrics import classification_report,accuracy_score,confusion_matrix"
   ]
  },
  {
   "cell_type": "code",
   "execution_count": 163,
   "metadata": {},
   "outputs": [
    {
     "name": "stdout",
     "output_type": "stream",
     "text": [
      "              precision    recall  f1-score   support\n",
      "\n",
      "           0       0.98      0.79      0.88       800\n",
      "           1       0.35      0.85      0.50       105\n",
      "\n",
      "    accuracy                           0.80       905\n",
      "   macro avg       0.66      0.82      0.69       905\n",
      "weighted avg       0.90      0.80      0.83       905\n",
      "\n"
     ]
    }
   ],
   "source": [
    "print(classification_report(yTest,pred))"
   ]
  },
  {
   "cell_type": "code",
   "execution_count": 164,
   "metadata": {},
   "outputs": [
    {
     "data": {
      "text/plain": [
       "0.8"
      ]
     },
     "execution_count": 164,
     "metadata": {},
     "output_type": "execute_result"
    }
   ],
   "source": [
    "accuracy_score(yTest,pred)"
   ]
  },
  {
   "cell_type": "code",
   "execution_count": 165,
   "metadata": {},
   "outputs": [
    {
     "data": {
      "text/plain": [
       "array([[635, 165],\n",
       "       [ 16,  89]])"
      ]
     },
     "execution_count": 165,
     "metadata": {},
     "output_type": "execute_result"
    }
   ],
   "source": [
    "confusion_matrix(yTest,pred)"
   ]
  },
  {
   "cell_type": "code",
   "execution_count": 166,
   "metadata": {},
   "outputs": [],
   "source": [
    "x_train,x_test, y_train,y_test = train_test_split(bankData.drop('y',1),bankData['y'],test_size=0.2)"
   ]
  },
  {
   "cell_type": "code",
   "execution_count": 167,
   "metadata": {},
   "outputs": [],
   "source": [
    "x_train,y_train = SMOTE(k_neighbors=4).fit_sample(x_train,y_train)"
   ]
  },
  {
   "cell_type": "code",
   "execution_count": 168,
   "metadata": {},
   "outputs": [
    {
     "data": {
      "text/plain": [
       "(6398, 16)"
      ]
     },
     "execution_count": 168,
     "metadata": {},
     "output_type": "execute_result"
    }
   ],
   "source": [
    "x_train.shape"
   ]
  },
  {
   "cell_type": "code",
   "execution_count": 169,
   "metadata": {},
   "outputs": [],
   "source": [
    "model = Sequential()\n",
    "\n",
    "model.add(Dense(60,activation='relu',input_shape=(16,)))\n",
    "model.add(Dropout(0.5))\n",
    "\n",
    "model.add(Dense(55,activation='relu'))\n",
    "model.add(Dropout(0.5))\n",
    "\n",
    "model.add(Dense(40,activation='relu'))\n",
    "model.add(Dropout(0.5))\n",
    "\n",
    "model.add(Dense(35,activation='relu'))\n",
    "model.add(Dropout(0.5))\n",
    "\n",
    "model.add(Dense(35,activation='relu'))\n",
    "model.add(Dropout(0.5))\n",
    "\n",
    "model.add(Dense(1,activation='sigmoid'))\n",
    "\n",
    "model.compile(optimizer='adam',loss='binary_crossentropy')"
   ]
  },
  {
   "cell_type": "code",
   "execution_count": 170,
   "metadata": {},
   "outputs": [
    {
     "data": {
      "text/plain": [
       "<keras.callbacks.callbacks.History at 0x1a419358d0>"
      ]
     },
     "execution_count": 170,
     "metadata": {},
     "output_type": "execute_result"
    }
   ],
   "source": [
    "model.fit(x_train,y_train,callbacks=[call],validation_data=(x_test,y_test),epochs=900,verbose=0)"
   ]
  },
  {
   "cell_type": "code",
   "execution_count": 171,
   "metadata": {},
   "outputs": [
    {
     "data": {
      "text/plain": [
       "<matplotlib.axes._subplots.AxesSubplot at 0x1a41e48c50>"
      ]
     },
     "execution_count": 171,
     "metadata": {},
     "output_type": "execute_result"
    },
    {
     "data": {
      "image/png": "[encoded data removed]",
      "text/plain": [
       "<Figure size 432x288 with 1 Axes>"
      ]
     },
     "metadata": {
      "needs_background": "light"
     },
     "output_type": "display_data"
    }
   ],
   "source": [
    "his = pd.DataFrame(model.history.history)\n",
    "\n",
    "his.plot()"
   ]
  },
  {
   "cell_type": "code",
   "execution_count": 172,
   "metadata": {},
   "outputs": [
    {
     "data": {
      "text/plain": [
       "0.8"
      ]
     },
     "execution_count": 172,
     "metadata": {},
     "output_type": "execute_result"
    }
   ],
   "source": [
    "accuracy_score(yTest,pred)"
   ]
  },
  {
   "cell_type": "code",
   "execution_count": null,
   "metadata": {},
   "outputs": [],
   "source": []
  }
 ],
 "metadata": {
  "kernelspec": {
   "display_name": "Python 3",
   "language": "python",
   "name": "python3"
  },
  "language_info": {
   "codemirror_mode": {
    "name": "ipython",
    "version": 3
   },
   "file_extension": ".py",
   "mimetype": "text/x-python",
   "name": "python",
   "nbconvert_exporter": "python",
   "pygments_lexer": "ipython3",
   "version": "3.7.4"
  }
 },
 "nbformat": 4,
 "nbformat_minor": 4
}
